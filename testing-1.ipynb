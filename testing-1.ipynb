{
 "cells": [
  {
   "cell_type": "markdown",
   "id": "d0edab07",
   "metadata": {},
   "source": [
    "Installation of PyMuPDF needed \n",
    "\n",
    "`python -m pip install --upgrade pip`\n",
    "\n",
    "`python -m pip install --upgrade pymupdf`"
   ]
  },
  {
   "cell_type": "code",
   "execution_count": 25,
   "id": "192402a6",
   "metadata": {},
   "outputs": [
    {
     "name": "stdout",
     "output_type": "stream",
     "text": [
      "<re.Match object; span=(21, 41), match='dumbledore@gmail.com'>\n",
      "dumbledore@gmail.com\n",
      "<re.Match object; span=(21, 40), match='mcgonagal@gmail.com'>\n",
      "mcgonagal@gmail.com\n",
      "Successfully redacted\n"
     ]
    }
   ],
   "source": [
    "# imports\n",
    "import fitz\n",
    "import re\n",
    " \n",
    "class Redactor:\n",
    "   \n",
    "    # static methods work independent of class object\n",
    "    @staticmethod\n",
    "    def get_sensitive_data(lines):\n",
    "       \n",
    "        \"\"\" Function to get all the lines \"\"\"\n",
    "         \n",
    "        # email regex\n",
    "        EMAIL_REG = r\"([\\w\\.\\d]+\\@[\\w\\d]+\\.[\\w\\d]+)\"\n",
    "        for line in lines:\n",
    "           \n",
    "            # matching the regex to each line\n",
    "            if re.search(EMAIL_REG, line, re.IGNORECASE):\n",
    "                search = re.search(EMAIL_REG, line, re.IGNORECASE)\n",
    "                print(search)\n",
    "                 \n",
    "                # yields creates a generator\n",
    "                # generator is used to return\n",
    "                # values in between function iterations\n",
    "                yield search.group(1)\n",
    "                print(search.group(1))\n",
    "        \n",
    "        # names\n",
    "        NAMES = \n",
    " \n",
    "    # constructor\n",
    "    def __init__(self, path):\n",
    "        self.path = path\n",
    " \n",
    "    def redaction(self):\n",
    "       \n",
    "        \"\"\" main redactor code \"\"\"\n",
    "         \n",
    "        # opening the pdf\n",
    "        doc = fitz.open(self.path)\n",
    "         \n",
    "        # iterating through pages\n",
    "        for page in doc:\n",
    "           \n",
    "            # _wrapContents is needed for fixing\n",
    "            # alignment issues with rect boxes in some\n",
    "            # cases where there is alignment issue\n",
    "            ## page._wrapContents()\n",
    "             \n",
    "            # getting the rect boxes which consists the matching email regex\n",
    "            sensitive = self.get_sensitive_data(page.get_text(\"text\")\n",
    "                                                .split('\\n'))\n",
    "            \n",
    "            for data in sensitive:\n",
    "                areas = page.search_for(data)\n",
    "                 \n",
    "                # drawing outline over sensitive datas\n",
    "                [page.add_redact_annot(area, fill = (0, 0, 0)) for area in areas]\n",
    "                 \n",
    "            # applying the redaction\n",
    "            page.apply_redactions()\n",
    "             \n",
    "        # saving it to a new pdf\n",
    "        doc.save('redacted.pdf')\n",
    "        print(\"Successfully redacted\")\n",
    " \n",
    "# driver code for testing\n",
    "if __name__ == \"__main__\":\n",
    "   \n",
    "    # replace it with name of the pdf file\n",
    "    path = 'example1.pdf'\n",
    "    redactor = Redactor(path)\n",
    "    redactor.redaction()"
   ]
  },
  {
   "cell_type": "code",
   "execution_count": 21,
   "id": "1c2c0223",
   "metadata": {},
   "outputs": [
    {
     "ename": "NameError",
     "evalue": "name 'sensitive' is not defined",
     "output_type": "error",
     "traceback": [
      "\u001b[0;31m---------------------------------------------------------------------------\u001b[0m",
      "\u001b[0;31mNameError\u001b[0m                                 Traceback (most recent call last)",
      "\u001b[0;32m<ipython-input-21-a76df27e9a30>\u001b[0m in \u001b[0;36m<module>\u001b[0;34m\u001b[0m\n\u001b[0;32m----> 1\u001b[0;31m \u001b[0mprint\u001b[0m\u001b[0;34m(\u001b[0m\u001b[0msensitive\u001b[0m\u001b[0;34m)\u001b[0m\u001b[0;34m\u001b[0m\u001b[0;34m\u001b[0m\u001b[0m\n\u001b[0m",
      "\u001b[0;31mNameError\u001b[0m: name 'sensitive' is not defined"
     ]
    }
   ],
   "source": [
    "print(sensitive)"
   ]
  },
  {
   "cell_type": "code",
   "execution_count": null,
   "id": "397b9560",
   "metadata": {},
   "outputs": [],
   "source": []
  }
 ],
 "metadata": {
  "kernelspec": {
   "display_name": "Python 3",
   "language": "python",
   "name": "python3"
  },
  "language_info": {
   "codemirror_mode": {
    "name": "ipython",
    "version": 3
   },
   "file_extension": ".py",
   "mimetype": "text/x-python",
   "name": "python",
   "nbconvert_exporter": "python",
   "pygments_lexer": "ipython3",
   "version": "3.8.8"
  }
 },
 "nbformat": 4,
 "nbformat_minor": 5
}
