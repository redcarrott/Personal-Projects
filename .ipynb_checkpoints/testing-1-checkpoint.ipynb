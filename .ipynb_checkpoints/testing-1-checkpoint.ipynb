{
 "cells": [
  {
   "cell_type": "markdown",
   "id": "2fe4ab09",
   "metadata": {},
   "source": [
    "Installation of PyMuPDF needed \n",
    "\n",
    "`python -m pip install --upgrade pip`\n",
    "\n",
    "`python -m pip install --upgrade pymupdf`"
   ]
  },
  {
   "cell_type": "code",
   "execution_count": 50,
   "id": "05d5839b",
   "metadata": {},
   "outputs": [
    {
     "name": "stdout",
     "output_type": "stream",
     "text": [
      "Harry Potter\n",
      "4 Pivet Drive\n"
     ]
    }
   ],
   "source": [
    "for x in info[2]:\n",
    "    print(x)"
   ]
  },
  {
   "cell_type": "code",
   "execution_count": 46,
   "id": "cc1a984c",
   "metadata": {},
   "outputs": [
    {
     "name": "stdout",
     "output_type": "stream",
     "text": [
      "1\n",
      "2\n"
     ]
    }
   ],
   "source": [
    "for i in info:\n",
    "    print(i)"
   ]
  },
  {
   "cell_type": "code",
   "execution_count": 60,
   "id": "11befd50",
   "metadata": {},
   "outputs": [
    {
     "name": "stdout",
     "output_type": "stream",
     "text": [
      "{1: ['Hermione Granger', 'Diagon Alley #10'], 2: ['Harry Potter', '4 Privet Drive, Cupboard Under the Stairs']}\n",
      "['Item(s) Subtotal: $108.00', 'Shipping & Handling: ', '$0.00', '-----', 'Total before tax: $108.00', 'Estimated tax to be collected: ', '$1.33 ', '-----', 'Grand Total:$109.33', 'Final Details for Order #140-2475861-372856 ', 'Print this page for your records.', 'Order Placed: February 25, 2017', 'Amazon.com order number: 140-2475861-372856 ', 'Order Total: $109.33', 'Shipped on February 16, 2017', 'Price', '$108.00', 'Items Ordered', '1 of: AmazonBasics Wand', 'Sold by: Amazon.com Services LLC', 'Condition: New', 'Shipping Address: ', 'Hermione Granger', 'Diagon Alley #10', 'London, England 27475', 'United Kingdom', 'Shipping Speed: ', 'Standard Shipping ', 'Payment information', 'Payment Method: ', 'Visa | Last digits: 1234 ', 'Billing address', 'Hermione Granger', 'Diagon Alley #10', 'London, England 27475', 'United Kingdom', 'Credit Card transactions ', 'Visa ending in 1234: February 16, 2017:$109.33', 'To view the status of your order, return to Order Summary.', 'Conditions of Use | Privacy Notice © 1996-2020, Amazon.com, Inc. or its affiliates', '']\n",
      "Hermione Granger\n",
      "Diagon Alley #10\n",
      "Hermione Granger\n",
      "Diagon Alley #10\n",
      "['Item(s) Subtotal: $200.00', '-----', 'Total before tax: $200.00', 'Estimated tax to be collected:', '$0.00', '-----', 'Grand Total:$200.00', 'Details for Order #214-2871494-7469807 ', 'Print this page for your records.', 'Order Placed: April 27, 2020', 'Amazon.com order number: 214-2871494-7469807 ', 'Order Total: $200.00', 'Gift Cards', 'Sent ', 'E-mail gift card to: dumbledore@gmail.com', '- From: Harry Potter', '- Message:', 'Hope you enjoy this Amazon Gift Card!', 'Amount', '$100.00', 'Sent ', 'E-mail gift card to: mcgonagal@gmail.com', '- From: Harry Potter', '- Message:', 'Hope you enjoy this Amazon Gift Card!', 'Amount', '$100.00', 'If you want to cancel a gift card, please send an e-mail to customer service. We will do our best to', 'fulfill your request.', 'Payment information', 'Payment Method: ', 'Visa | Last digits: 9876', 'To view the status of your order, return to Order Summary.', 'Please note: This is not a VAT invoice.', 'Conditions of Use | Privacy Notice © 1996-2020, Amazon.com, Inc. or its affiliates', 'Billing address', 'Harry Potter', '4 Privet Drive, Cupboard Under the Stairs', 'Little Whinging, Surrey, England 5UK8', '']\n",
      "dumbledore@gmail.com\n",
      "mcgonagal@gmail.com\n",
      "Harry Potter\n",
      "Harry Potter\n",
      "Harry Potter\n",
      "4 Privet Drive, Cupboard Under the Stairs\n",
      "Successfully redacted\n"
     ]
    }
   ],
   "source": [
    "# imports\n",
    "import fitz\n",
    "import re\n",
    "\n",
    "import ast\n",
    "with open('personal_info.txt') as f:\n",
    "    x = f.read()\n",
    "\n",
    "info = ast.literal_eval(x)\n",
    "print(info)\n",
    " \n",
    "class Redactor:\n",
    "   \n",
    "    # static methods work independent of class object\n",
    "    @staticmethod\n",
    "    def get_sensitive_data(lines):\n",
    "       \n",
    "        \"\"\" Function to get all the lines \"\"\"\n",
    "         \n",
    "        # email regex\n",
    "        EMAIL_REG = r\"([\\w\\.\\d]+\\@[\\w\\d]+\\.[\\w\\d]+)\"\n",
    "        for line in lines:\n",
    "           \n",
    "            # matching the regex to each line\n",
    "            if re.search(EMAIL_REG, line, re.IGNORECASE):\n",
    "                search = re.search(EMAIL_REG, line, re.IGNORECASE)\n",
    "                #print(search)\n",
    "                 \n",
    "                # yields creates a generator\n",
    "                # generator is used to return\n",
    "                # values in between function iterations\n",
    "                yield search.group(1)\n",
    "                print(search.group(1))\n",
    "        \n",
    "        # names and addresses from personal_info.txt\n",
    "        for i in info:\n",
    "            for line in lines:\n",
    "                \n",
    "                for x in info[i]:\n",
    "                    if x in line:\n",
    "                        search_2 = x\n",
    "                        print(search_2)\n",
    "\n",
    "                        yield search_2\n",
    "                        #print(search_2.group(2))\n",
    "                    \n",
    " \n",
    "    # constructor\n",
    "    def __init__(self, path):\n",
    "        self.path = path\n",
    " \n",
    "    def redaction(self):\n",
    "       \n",
    "        \"\"\" main redactor code \"\"\"\n",
    "         \n",
    "        # opening the pdf\n",
    "        doc = fitz.open(self.path)\n",
    "         \n",
    "        # iterating through pages\n",
    "        for page in doc:\n",
    "           \n",
    "            # _wrapContents is needed for fixing\n",
    "            # alignment issues with rect boxes in some\n",
    "            # cases where there is alignment issue\n",
    "            ## page._wrapContents()\n",
    "             \n",
    "            # getting the rect boxes which consists the matching email regex\n",
    "            print(page.get_text(\"text\").split('\\n'))\n",
    "            # this creates a list of the PDF text contents\n",
    "            sensitive = self.get_sensitive_data(page.get_text(\"text\")\n",
    "                                                .split('\\n'))\n",
    "            \n",
    "            for data in sensitive:\n",
    "                areas = page.search_for(data)\n",
    "                 \n",
    "                # drawing outline over sensitive datas\n",
    "                [page.add_redact_annot(area, fill = (0, 0, 0)) for area in areas]\n",
    "                 \n",
    "            # applying the redaction\n",
    "            page.apply_redactions()\n",
    "             \n",
    "        # saving it to a new pdf\n",
    "        doc.save('redacted.pdf')\n",
    "        print(\"Successfully redacted\")\n",
    " \n",
    "# driver code for testing\n",
    "if __name__ == \"__main__\":\n",
    "   \n",
    "    # replace it with name of the pdf file\n",
    "    path = 'example1.pdf'\n",
    "    redactor = Redactor(path)\n",
    "    redactor.redaction()"
   ]
  },
  {
   "cell_type": "markdown",
   "id": "d356c113",
   "metadata": {},
   "source": [
    "## Running the Script"
   ]
  },
  {
   "cell_type": "code",
   "execution_count": 70,
   "id": "503f1f51",
   "metadata": {},
   "outputs": [
    {
     "name": "stdout",
     "output_type": "stream",
     "text": [
      "\n",
      "\n",
      " -- Removing PIIs from PDFs -- \n",
      "This program is meant to remove PIIs, specifically names, addresses, and emails from PDFs to ensure digital privacy.\n",
      "Please make sure that all PDF pages are compiled into one PDF, and named under 'example1.pdf'.\n",
      "\n",
      "\n"
     ]
    }
   ],
   "source": [
    "print(str(\"\\n\\n -- Removing PIIs from PDFs -- \\n\" + \n",
    "         \"This program is meant to remove PIIs, \" + \n",
    "         \"specifically names, addresses, and emails \" + \n",
    "         \"from PDFs to ensure digital privacy.\\n\" + \n",
    "         \"Please make sure that all PDF pages are compiled into one PDF, \" +\n",
    "         \"and named under \\'example1.pdf\\'\"\".\\n\\n\"))\n",
    "\n"
   ]
  },
  {
   "cell_type": "code",
   "execution_count": null,
   "id": "f4a90a88",
   "metadata": {},
   "outputs": [],
   "source": []
  }
 ],
 "metadata": {
  "kernelspec": {
   "display_name": "Python 3",
   "language": "python",
   "name": "python3"
  },
  "language_info": {
   "codemirror_mode": {
    "name": "ipython",
    "version": 3
   },
   "file_extension": ".py",
   "mimetype": "text/x-python",
   "name": "python",
   "nbconvert_exporter": "python",
   "pygments_lexer": "ipython3",
   "version": "3.8.8"
  }
 },
 "nbformat": 4,
 "nbformat_minor": 5
}
